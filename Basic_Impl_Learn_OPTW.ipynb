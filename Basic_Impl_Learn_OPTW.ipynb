{
 "cells": [
  {
   "cell_type": "code",
   "execution_count": 9,
   "metadata": {},
   "outputs": [],
   "source": [
    "import random\n",
    "import pandas as pd\n",
    "import matplotlib.pyplot as plt"
   ]
  },
  {
   "cell_type": "code",
   "execution_count": 19,
   "metadata": {},
   "outputs": [],
   "source": [
    "# Generate 50 data points, for values between [-100,100] x [-100,100], depot being in the middle at (0,0).\n",
    "\n",
    "no_of_points = 50\n",
    "raw_data = pd.DataFrame()\n",
    "raw_data['X'] = [random.randrange(-100, 100) for _ in range(50)]\n",
    "raw_data['Y'] = [random.randrange(-100, 100) for _ in range(50)]\n",
    "depot = (0,0)"
   ]
  },
  {
   "cell_type": "code",
   "execution_count": 20,
   "metadata": {},
   "outputs": [],
   "source": [
    "#plt.scatter(raw_data['X'], raw_data['Y'])\n",
    "#plt.scatter(*depot)\n",
    "#plt.show()"
   ]
  },
  {
   "cell_type": "code",
   "execution_count": null,
   "metadata": {},
   "outputs": [],
   "source": []
  }
 ],
 "metadata": {
  "kernelspec": {
   "display_name": "Python [conda env:optw_env]",
   "language": "python",
   "name": "conda-env-optw_env-py"
  },
  "language_info": {
   "codemirror_mode": {
    "name": "ipython",
    "version": 3
   },
   "file_extension": ".py",
   "mimetype": "text/x-python",
   "name": "python",
   "nbconvert_exporter": "python",
   "pygments_lexer": "ipython3",
   "version": "3.7.10"
  }
 },
 "nbformat": 4,
 "nbformat_minor": 4
}
